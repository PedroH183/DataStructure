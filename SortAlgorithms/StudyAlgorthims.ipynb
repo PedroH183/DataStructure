{
  "cells": [
    {
      "cell_type": "code",
      "execution_count": 1,
      "metadata": {
        "colab": {
          "base_uri": "https://localhost:8080/"
        },
        "id": "0rDps6M0HVwq",
        "outputId": "34e65dc0-5d7a-46ec-b8f3-aa517ea24f2c"
      },
      "outputs": [
        {
          "name": "stdout",
          "output_type": "stream",
          "text": [
            "[1, 2, 3, 4, 5, 5, 6, 7, 8, 9]\n"
          ]
        }
      ],
      "source": [
        "\n",
        "def BubbleSort( array, arr_length ):\n",
        "  \"\"\"\n",
        "    Andar no vetor n² de vezes para verificar se o item anterior é menor que o posterior.\n",
        "    Ideia: dois laços, o laço interno compara o anterior com o posterior, o laço externo anda no vetor inteiro.\n",
        "  \"\"\"\n",
        "\n",
        "  for i in range( arr_length ):\n",
        "\n",
        "    for j in range( arr_length - 1 - i ):\n",
        "\n",
        "      if array[j] > array[j +1]:\n",
        "        array[j], array[j+1] = array[j+1], array[j]\n",
        "\n",
        "  print(array)\n",
        "\n",
        "BubbleSort( [9,8,7,4,5,6,2,3,1,5], len([9,8,7,4,5,6,2,3,1,5]) )"
      ]
    },
    {
      "cell_type": "code",
      "execution_count": 7,
      "metadata": {
        "colab": {
          "base_uri": "https://localhost:8080/"
        },
        "id": "dVPdB7z_I5Ly",
        "outputId": "8f8e3834-8fba-4104-aa54-3cfebd815116"
      },
      "outputs": [
        {
          "name": "stdout",
          "output_type": "stream",
          "text": [
            "[1, 2, 3, 4, 5, 5, 6, 7, 8, 9]\n"
          ]
        }
      ],
      "source": [
        "def SelectionSort( array, arr_length ):\n",
        "  \"\"\"\n",
        "    Andar no vetor n² vezes procurando o menor valor.\n",
        "    Ideia: dois laços o laço interno procura o indice do menor valor, o laço externo atribui o menor naquela posição.\n",
        "\n",
        "\n",
        "    Andar em todo vetor procurando o menor numero, quando encontrar subtituir o valor desse indice\n",
        "  \"\"\"\n",
        "\n",
        "  for i in range( arr_length - 1 ):\n",
        "    min = i\n",
        "\n",
        "    for j in range( i + 1 , arr_length ):\n",
        "\n",
        "      if array[min] > array[j]:\n",
        "        min = j\n",
        "\n",
        "    if min != i:\n",
        "      array[min], array[i] = array[i], array[min]\n",
        "\n",
        "  print(array)\n",
        "\n",
        "SelectionSort( [9,8,7,4,5,6,2,3,1,5], len([9,8,7,4,5,6,2,3,1,5]) )"
      ]
    },
    {
      "cell_type": "code",
      "execution_count": 22,
      "metadata": {
        "colab": {
          "base_uri": "https://localhost:8080/"
        },
        "id": "4T3kYULwOebX",
        "outputId": "afbdd6ed-d5bd-4b1f-e34d-21b695ceee37"
      },
      "outputs": [
        {
          "name": "stdout",
          "output_type": "stream",
          "text": [
            "[1, 2, 3, 4, 5, 5, 6, 7, 8, 9]\n"
          ]
        }
      ],
      "source": [
        "def InsertionSort( array, arr_length ):\n",
        "\n",
        "  \"\"\"\n",
        "    Andar no vetor n² vezes, o laço externo é responsável por andar e atribuir no vetor o valor ordenado\n",
        "    o laço interno é responsável deslizar todos os valores maiores que o valor em i para a direita.\n",
        "  \"\"\"\n",
        "\n",
        "  for i in range(1, arr_length ):\n",
        "\n",
        "    index = i - 1\n",
        "    valor_mudado = array[i]\n",
        "\n",
        "    while valor_mudado < array[index] and index >= 0:\n",
        "      # array[index] são os valores de tras pra frente até o meu index - 1\n",
        "\n",
        "      array[index + 1] = array[index] # deslizando o vetor para a direita\n",
        "      index -= 1\n",
        "\n",
        "    array[index + 1] = valor_mudado # colocando o valor em i na posição correta\n",
        "\n",
        "\n",
        "  print(array)\n",
        "\n",
        "InsertionSort( [9,8,7,4,5,6,2,3,1,5], len([9,8,7,4,5,6,2,3,1,5]) )"
      ]
    },
    {
      "cell_type": "code",
      "execution_count": 1,
      "metadata": {
        "colab": {
          "base_uri": "https://localhost:8080/"
        },
        "id": "LS4rC1IQeN7G",
        "outputId": "76a5e281-f3cf-41ef-9e2d-59af5b407e81"
      },
      "outputs": [
        {
          "name": "stdout",
          "output_type": "stream",
          "text": [
            "[1, 2, 5, 4, 7, 6, 8, 3, 9, 5]\n"
          ]
        }
      ],
      "source": [
        "def PartitionQuickSort( array, inicio, fim ):\n",
        "  \"\"\"\n",
        "    É a função de partição do QuickSort\n",
        "\n",
        "    Funciona colocando os valores menores que o pivot à esquerda e os maiores à direita.\n",
        "    O particionamento funciona colocando os menores a direita do pivot, e ao final troca o pivot com o ultimo indice que houve a substituição\n",
        "\n",
        "    referencias:\n",
        "      https://joaoarthurbm.github.io/eda/posts/quick-sort/\n",
        "  \"\"\"\n",
        "\n",
        "  i = inicio\n",
        "  pivo = array[inicio]\n",
        "\n",
        "  for j in range( inicio + 1, fim ):\n",
        "    if array[j] <= pivo:\n",
        "      i += 1\n",
        "      array[i], array[j] = array[j], array[i]\n",
        "\n",
        "  array[inicio], array[i] = array[i] , array[inicio]\n",
        "\n",
        "  return i\n",
        "\n",
        "def QuickSort( array,  inicio, fim ):\n",
        "\n",
        "  if inicio < fim:\n",
        "    pivo_index = PartitionQuickSort( array, inicio, fim )\n",
        "\n",
        "    QuickSort( array, inicio, pivo_index - 1 )\n",
        "    QuickSort( array, pivo_index + 1 , fim )\n",
        "\n",
        "  return array\n",
        "\n",
        "\n",
        "arr = [9,8,7,4,5,6,2,3,1,5]\n",
        "QuickSort( arr , 0 , len(arr) - 1 )\n",
        "\n",
        "print(arr)\n"
      ]
    },
    {
      "cell_type": "code",
      "execution_count": 2,
      "metadata": {
        "colab": {
          "base_uri": "https://localhost:8080/"
        },
        "id": "yEOHZ4mbrJft",
        "outputId": "747a9f9a-5864-4e67-9fb4-0a44a68dc1ff"
      },
      "outputs": [
        {
          "name": "stdout",
          "output_type": "stream",
          "text": [
            "[1, 2, 3, 4, 5, 5, 6, 7, 8, 9]\n"
          ]
        }
      ],
      "source": [
        "def Merge( array, inicio, meio, fim ):\n",
        "  \"\"\"\n",
        "    Função que junta as dois vetores( ou o que seria a representação de dois vetores ) em apenas um vetor resultante R\n",
        "    Utiliza a ideia de um indice_a para andar na representação do inicio ao meio\n",
        "    Utiliza a ideia de um indice_b para andar na representação do meio + 1 até o fim\n",
        "\n",
        "    Essa função só funciona por causa que temos certeza que o meio divide duas partes do vetores e ambas ordenadas.\n",
        "\n",
        "\n",
        "    Cria um vetor Auxiliar para consultar os dados do vetor original, uma vez q o original será reescrito com os valores ordenados.\n",
        "\n",
        "    referencias:\n",
        "      https://www.geeksforgeeks.org/merge-sort/\n",
        "      https://joaoarthurbm.github.io/eda/posts/merge-sort/\n",
        "  \"\"\"\n",
        "\n",
        "  new_vetor = [0] * len(array)\n",
        "\n",
        "  for i in range(len(array)):\n",
        "    new_vetor[i] = array[i]\n",
        "\n",
        "  i_a = inicio # representa o indice do vetor A\n",
        "  k_r = inicio # representa o indice do vetor resultante R\n",
        "  j_b = meio + 1 # representa o indice do vetor B\n",
        "\n",
        "  while( i_a <= meio and j_b <= fim):\n",
        "\n",
        "    if( new_vetor[i_a] < new_vetor[j_b] ):\n",
        "      array[k_r] = new_vetor[i_a]\n",
        "      k_r += 1\n",
        "      i_a += 1\n",
        "    else:\n",
        "      array[k_r] = new_vetor[j_b]\n",
        "      k_r += 1\n",
        "      j_b += 1\n",
        "\n",
        "\n",
        "  while( i_a <= meio ):\n",
        "    array[k_r] = new_vetor[i_a]\n",
        "    k_r += 1\n",
        "    i_a += 1\n",
        "\n",
        "  while( j_b <= fim ):\n",
        "    array[k_r] = new_vetor[j_b]\n",
        "    k_r += 1\n",
        "    j_b += 1\n",
        "\n",
        "\n",
        "def MergeSort( array, inicio, fim ):\n",
        "  if( inicio >= fim ):\n",
        "    return\n",
        "\n",
        "  meio = (inicio + fim)//2\n",
        "  MergeSort( array, inicio, meio )\n",
        "  MergeSort( array, meio + 1, fim )\n",
        "\n",
        "  Merge( array, inicio, meio, fim )\n",
        "\n",
        "\n",
        "arr = [9,8,7,4,5,6,2,3,1,5]\n",
        "MergeSort( arr , 0 , len(arr) - 1 )\n",
        "\n",
        "print(arr)\n"
      ]
    },
    {
      "cell_type": "code",
      "execution_count": 1,
      "metadata": {
        "colab": {
          "base_uri": "https://localhost:8080/"
        },
        "id": "amEKmKnYuHSA",
        "outputId": "b261e0fc-9721-4b5a-fe14-6d1c98ba502f"
      },
      "outputs": [
        {
          "name": "stdout",
          "output_type": "stream",
          "text": [
            "[1, 2, 3, 4, 5, 5, 6, 7, 8, 9]\n"
          ]
        }
      ],
      "source": [
        "def CountingSort( array, arr_length ):\n",
        "  \"\"\"\n",
        "    Função que realiza o método CountingSort para o ordenamento de um determinado vetor\n",
        "\n",
        "\n",
        "    referencias:\n",
        "      https://www.cs.usfca.edu/~galles/visualization/CountingSort.html\n",
        "  \"\"\"\n",
        "\n",
        "  vetor_count = [0] * arr_length\n",
        "  vetor_resultante = [0] * arr_length\n",
        "\n",
        "  # frequencia de um dado valor dentro do vetor\n",
        "  for i in range( len(vetor_count) ):\n",
        "    vetor_count[ array[i] ] += 1\n",
        "\n",
        "  # somar cada item do vetor resultante com o indice anterior\n",
        "  for i in range(1, arr_length ):\n",
        "    vetor_count[i] += vetor_count[i - 1]\n",
        "\n",
        "  #criar o vetor resultante : andar no vetor resultante, acessar o valor dele e utilizar como indice para o new_vetor_count e salvar no vetor de saida\n",
        "  # andar no vetor de entrada de tras pra frente\n",
        "\n",
        "  i = arr_length - 1\n",
        "  while i >= 0:\n",
        "    vetor_resultante[ vetor_count[ array[i] ] - 1 ] = array[i]\n",
        "    vetor_count[ array[i] ] -= 1\n",
        "    i -= 1\n",
        "\n",
        "  for i in range(arr_length):\n",
        "      array[i] = vetor_resultante[i]\n",
        "\n",
        "\n",
        "arr = [9,8,7,4,5,6,2,3,1,5]\n",
        "CountingSort( arr , len(arr) )\n",
        "\n",
        "print(arr)"
      ]
    },
    {
      "cell_type": "code",
      "execution_count": 9,
      "metadata": {},
      "outputs": [],
      "source": [
        "# Binary Heap\n",
        "\n",
        "class BinaryHeap:\n",
        "\n",
        "    def __init__(self, input_vetor, isMaxHeap=False, isMinHeap=False):\n",
        "        self.heap = []\n",
        "\n",
        "        if isMaxHeap:\n",
        "            self.heap = self.create_valid_max_heap(input_vetor)\n",
        "        \n",
        "        elif isMinHeap:\n",
        "            self.heap = self.create_valid_min_heap(input_vetor)\n",
        "\n",
        "    def IsBigger(self, f_value, s_value):\n",
        "        return f_value > s_value\n",
        "\n",
        "    def Left( self, nodeIndex ):\n",
        "        return (2 * nodeIndex) + 1\n",
        "\n",
        "    def Right( self, nodeIndex ):\n",
        "        return (2 * nodeIndex) + 2\n",
        "\n",
        "    def Parent(self, nodeIndex):\n",
        "        return (i - 1)/2\n",
        "\n",
        "    def Swap( first_v, second_v ):\n",
        "        aux = self.heap[first_v]\n",
        "        self.heap[first_v] = self.heap[second_v]\n",
        "        self.heap[second_v] = aux\n",
        "\n",
        "    def Insert( self, value ):\n",
        "\n",
        "        self.heap.append( value )\n",
        "        index_node = len( self.heap ) - 1\n",
        "        parent_index = self.Parent( index_node )\n",
        "\n",
        "        while IsBigger(index_node, parent_index):\n",
        "            self.Swap(index_node, parent_index)\n",
        "            index_node = parent_index\n",
        "            parent_index = self.Parent(i)\n",
        "\n",
        "    def InsertVetor( self, invalid_vector ):\n",
        "        \n",
        "        for i in range( 0, len(invalid_vector) ):\n",
        "            self.Insert(invalid_vector[i])\n",
        "\n",
        "if __name__ == \"__main__\":\n",
        "    BinaryHeap( input_vetor=[4,2,8,7,1,5,3,6] )"
      ]
    }
  ],
  "metadata": {
    "colab": {
      "provenance": []
    },
    "kernelspec": {
      "display_name": "Python 3",
      "name": "python3"
    },
    "language_info": {
      "codemirror_mode": {
        "name": "ipython",
        "version": 3
      },
      "file_extension": ".py",
      "mimetype": "text/x-python",
      "name": "python",
      "nbconvert_exporter": "python",
      "pygments_lexer": "ipython3",
      "version": "3.8.18"
    }
  },
  "nbformat": 4,
  "nbformat_minor": 0
}
